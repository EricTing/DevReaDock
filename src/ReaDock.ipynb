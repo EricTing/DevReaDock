{
 "cells": [
  {
   "cell_type": "markdown",
   "metadata": {},
   "source": [
    "# ReaDock"
   ]
  },
  {
   "cell_type": "markdown",
   "metadata": {},
   "source": [
    "## Tokenization\n",
    "Protein-ligand complex to paragraph of tokens"
   ]
  },
  {
   "cell_type": "code",
   "execution_count": 1,
   "metadata": {
    "collapsed": false
   },
   "outputs": [
    {
     "name": "stdout",
     "output_type": "stream",
     "text": [
      "\u001b[31mPDBbind_core07.txt\u001b[m\u001b[m                  \u001b[31mPDBbind_core07.txt_bk\u001b[m\u001b[m               PDBbind_refined07-core07.tokens.csv \u001b[31mPDBbind_refined07-core07.txt\u001b[m\u001b[m        \u001b[31mPDBbind_refined07-core07.txt_bk\u001b[m\u001b[m\r\n"
     ]
    }
   ],
   "source": [
    "!ls ../dat/"
   ]
  },
  {
   "cell_type": "code",
   "execution_count": 2,
   "metadata": {
    "collapsed": true
   },
   "outputs": [],
   "source": [
    "import pandas as pd\n",
    "import numpy as np"
   ]
  },
  {
   "cell_type": "code",
   "execution_count": 3,
   "metadata": {
    "collapsed": true
   },
   "outputs": [],
   "source": [
    "tokens_df = pd.read_csv(\"../dat/PDBbind_refined07-core07.tokens.csv\", index_col=0)"
   ]
  },
  {
   "cell_type": "code",
   "execution_count": 4,
   "metadata": {
    "collapsed": false
   },
   "outputs": [
    {
     "data": {
      "text/html": [
       "<div>\n",
       "<table border=\"1\" class=\"dataframe\">\n",
       "  <thead>\n",
       "    <tr style=\"text-align: right;\">\n",
       "      <th></th>\n",
       "      <th>myid</th>\n",
       "      <th>pKd/pKi</th>\n",
       "      <th>tokens</th>\n",
       "    </tr>\n",
       "  </thead>\n",
       "  <tbody>\n",
       "    <tr>\n",
       "      <th>0</th>\n",
       "      <td>1bnq</td>\n",
       "      <td>9.49</td>\n",
       "      <td>HIS TRP GLY TYR GLY LYS HIS ASN GLY PRO GLU HI...</td>\n",
       "    </tr>\n",
       "    <tr>\n",
       "      <th>1</th>\n",
       "      <td>1yqj</td>\n",
       "      <td>8.14</td>\n",
       "      <td>HIS MET LEU GLU MET SER GLN GLU ARG PRO THR PH...</td>\n",
       "    </tr>\n",
       "    <tr>\n",
       "      <th>2</th>\n",
       "      <td>1bnw</td>\n",
       "      <td>9.08</td>\n",
       "      <td>HIS TRP GLY TYR GLY LYS HIS ASN GLY PRO GLU HI...</td>\n",
       "    </tr>\n",
       "    <tr>\n",
       "      <th>3</th>\n",
       "      <td>1bnv</td>\n",
       "      <td>8.77</td>\n",
       "      <td>HIS TRP GLY TYR GLY LYS HIS ASN GLY PRO GLU HI...</td>\n",
       "    </tr>\n",
       "    <tr>\n",
       "      <th>4</th>\n",
       "      <td>1bnu</td>\n",
       "      <td>9.70</td>\n",
       "      <td>HIS TRP GLY TYR GLY LYS HIS ASN GLY PRO GLU HI...</td>\n",
       "    </tr>\n",
       "  </tbody>\n",
       "</table>\n",
       "</div>"
      ],
      "text/plain": [
       "   myid  pKd/pKi                                             tokens\n",
       "0  1bnq     9.49  HIS TRP GLY TYR GLY LYS HIS ASN GLY PRO GLU HI...\n",
       "1  1yqj     8.14  HIS MET LEU GLU MET SER GLN GLU ARG PRO THR PH...\n",
       "2  1bnw     9.08  HIS TRP GLY TYR GLY LYS HIS ASN GLY PRO GLU HI...\n",
       "3  1bnv     8.77  HIS TRP GLY TYR GLY LYS HIS ASN GLY PRO GLU HI...\n",
       "4  1bnu     9.70  HIS TRP GLY TYR GLY LYS HIS ASN GLY PRO GLU HI..."
      ]
     },
     "execution_count": 4,
     "metadata": {},
     "output_type": "execute_result"
    }
   ],
   "source": [
    "tokens_df.head()"
   ]
  },
  {
   "cell_type": "code",
   "execution_count": 5,
   "metadata": {
    "collapsed": false
   },
   "outputs": [
    {
     "data": {
      "text/html": [
       "<div>\n",
       "<table border=\"1\" class=\"dataframe\">\n",
       "  <thead>\n",
       "    <tr style=\"text-align: right;\">\n",
       "      <th></th>\n",
       "      <th>myid</th>\n",
       "      <th>pKd/pKi</th>\n",
       "      <th>tokens</th>\n",
       "    </tr>\n",
       "  </thead>\n",
       "  <tbody>\n",
       "    <tr>\n",
       "      <th>1100</th>\n",
       "      <td>1jn2</td>\n",
       "      <td>4.09</td>\n",
       "      <td>ALA ASP THR ILE VAL ALA VAL GLU LEU ASP THR TY...</td>\n",
       "    </tr>\n",
       "    <tr>\n",
       "      <th>1101</th>\n",
       "      <td>1bai</td>\n",
       "      <td>7.70</td>\n",
       "      <td>LEU ALA MET THR MET GLU HIS LYS ASP ARG PRO LE...</td>\n",
       "    </tr>\n",
       "    <tr>\n",
       "      <th>1102</th>\n",
       "      <td>1tkb</td>\n",
       "      <td>8.00</td>\n",
       "      <td>GLN PHE THR ASP ILE ASP LYS LEU ALA VAL SER TH...</td>\n",
       "    </tr>\n",
       "    <tr>\n",
       "      <th>1103</th>\n",
       "      <td>2izl</td>\n",
       "      <td>6.00</td>\n",
       "      <td>ALA GLU ALA GLY ILE THR GLY THR TRP TYR ASN GL...</td>\n",
       "    </tr>\n",
       "    <tr>\n",
       "      <th>1104</th>\n",
       "      <td>1jn4</td>\n",
       "      <td>4.95</td>\n",
       "      <td>LYS GLU THR ALA ALA ALA LYS PHE GLU ARG GLN_O....</td>\n",
       "    </tr>\n",
       "  </tbody>\n",
       "</table>\n",
       "</div>"
      ],
      "text/plain": [
       "      myid  pKd/pKi                                             tokens\n",
       "1100  1jn2     4.09  ALA ASP THR ILE VAL ALA VAL GLU LEU ASP THR TY...\n",
       "1101  1bai     7.70  LEU ALA MET THR MET GLU HIS LYS ASP ARG PRO LE...\n",
       "1102  1tkb     8.00  GLN PHE THR ASP ILE ASP LYS LEU ALA VAL SER TH...\n",
       "1103  2izl     6.00  ALA GLU ALA GLY ILE THR GLY THR TRP TYR ASN GL...\n",
       "1104  1jn4     4.95  LYS GLU THR ALA ALA ALA LYS PHE GLU ARG GLN_O...."
      ]
     },
     "execution_count": 5,
     "metadata": {},
     "output_type": "execute_result"
    }
   ],
   "source": [
    "tokens_df.tail()"
   ]
  },
  {
   "cell_type": "code",
   "execution_count": 6,
   "metadata": {
    "collapsed": false
   },
   "outputs": [
    {
     "name": "stdout",
     "output_type": "stream",
     "text": [
      "    1105 ../dat/PDBbind_refined07-core07.txt\r\n"
     ]
    }
   ],
   "source": [
    "!wc -l ../dat/PDBbind_refined07-core07.txt"
   ]
  },
  {
   "cell_type": "code",
   "execution_count": 7,
   "metadata": {
    "collapsed": false
   },
   "outputs": [],
   "source": [
    "assert tokens_df.shape[0] == 1105, \"Expected 1105 protein-ligand complexes, but actual number is {}\".format(tokens_df.shape[0])"
   ]
  },
  {
   "cell_type": "code",
   "execution_count": 8,
   "metadata": {
    "collapsed": false
   },
   "outputs": [
    {
     "data": {
      "text/plain": [
       "count    1105.000000\n",
       "mean        6.392778\n",
       "std         2.116179\n",
       "min         0.490000\n",
       "25%         5.000000\n",
       "50%         6.370000\n",
       "75%         7.760000\n",
       "max        13.000000\n",
       "Name: pKd/pKi, dtype: float64"
      ]
     },
     "execution_count": 8,
     "metadata": {},
     "output_type": "execute_result"
    }
   ],
   "source": [
    "tokens_df['pKd/pKi'].describe()"
   ]
  },
  {
   "cell_type": "markdown",
   "metadata": {},
   "source": [
    "### TODO is pDk/pKi the target value?"
   ]
  },
  {
   "cell_type": "markdown",
   "metadata": {},
   "source": [
    "### Distribution of the tokens"
   ]
  },
  {
   "cell_type": "code",
   "execution_count": 9,
   "metadata": {
    "collapsed": true
   },
   "outputs": [],
   "source": [
    "all_tokens = pd.Series(' '.join(tokens_df.tokens).split())"
   ]
  },
  {
   "cell_type": "code",
   "execution_count": 10,
   "metadata": {
    "collapsed": false
   },
   "outputs": [
    {
     "data": {
      "text/plain": [
       "(1324,)"
      ]
     },
     "execution_count": 10,
     "metadata": {},
     "output_type": "execute_result"
    }
   ],
   "source": [
    "all_tokens.unique().shape"
   ]
  },
  {
   "cell_type": "code",
   "execution_count": 11,
   "metadata": {
    "collapsed": false
   },
   "outputs": [],
   "source": [
    "counts = all_tokens.value_counts()"
   ]
  },
  {
   "cell_type": "code",
   "execution_count": 12,
   "metadata": {
    "collapsed": false
   },
   "outputs": [
    {
     "name": "stdout",
     "output_type": "stream",
     "text": [
      "The most frequent residue-atom contacts are:\n"
     ]
    },
    {
     "data": {
      "text/plain": [
       "HOH_C.ar_C.ar    687\n",
       "HOH_C.3          484\n",
       "HOH_O.3_C.3      458\n",
       "HOH_C.3_C.3      453\n",
       "HOH_O.co2_C.2    300\n",
       "dtype: int64"
      ]
     },
     "execution_count": 12,
     "metadata": {},
     "output_type": "execute_result"
    }
   ],
   "source": [
    "print(\"The most frequent residue-atom contacts are:\")\n",
    "counts[counts.index.map(len) > 3].head()"
   ]
  },
  {
   "cell_type": "markdown",
   "metadata": {},
   "source": [
    "### TODO How to handle the water molecules?"
   ]
  },
  {
   "cell_type": "code",
   "execution_count": null,
   "metadata": {
    "collapsed": true
   },
   "outputs": [],
   "source": []
  }
 ],
 "metadata": {
  "kernelspec": {
   "display_name": "Python 2",
   "language": "python",
   "name": "python2"
  },
  "language_info": {
   "codemirror_mode": {
    "name": "ipython",
    "version": 2
   },
   "file_extension": ".py",
   "mimetype": "text/x-python",
   "name": "python",
   "nbconvert_exporter": "python",
   "pygments_lexer": "ipython2",
   "version": "2.7.11"
  }
 },
 "nbformat": 4,
 "nbformat_minor": 0
}
